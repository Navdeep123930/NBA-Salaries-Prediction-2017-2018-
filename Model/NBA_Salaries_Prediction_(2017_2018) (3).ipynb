{
  "nbformat": 4,
  "nbformat_minor": 0,
  "metadata": {
    "colab": {
      "name": "NBA Salaries Prediction (2017-2018).ipynb",
      "provenance": []
    },
    "kernelspec": {
      "name": "python3",
      "display_name": "Python 3"
    }
  },
  "cells": [
    {
      "cell_type": "code",
      "metadata": {
        "id": "CDEaZovUJsu2",
        "colab_type": "code",
        "colab": {
          "resources": {
            "http://localhost:8080/nbextensions/google.colab/files.js": {
              "data": "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",
              "ok": true,
              "headers": [
                [
                  "content-type",
                  "application/javascript"
                ]
              ],
              "status": 200,
              "status_text": ""
            }
          },
          "base_uri": "https://localhost:8080/",
          "height": 126
        },
        "outputId": "56e9f1e0-16f5-4ca4-c613-989109cec199"
      },
      "source": [
        "!pip install -q kaggle\n",
        "from google.colab import files\n",
        "files.upload()\n",
        "!mkdir -p ~/.kaggle\n",
        "!cp kaggle.json ~/.kaggle/\n",
        "!chmod 600 /root/.kaggle/kaggle.json\n",
        "!kaggle datasets download -d aishjun/nba-salaries-prediction-in-20172018-season"
      ],
      "execution_count": 1,
      "outputs": [
        {
          "output_type": "display_data",
          "data": {
            "text/html": [
              "\n",
              "     <input type=\"file\" id=\"files-4106e8c9-91ca-4119-8403-d82631918050\" name=\"files[]\" multiple disabled\n",
              "        style=\"border:none\" />\n",
              "     <output id=\"result-4106e8c9-91ca-4119-8403-d82631918050\">\n",
              "      Upload widget is only available when the cell has been executed in the\n",
              "      current browser session. Please rerun this cell to enable.\n",
              "      </output>\n",
              "      <script src=\"/nbextensions/google.colab/files.js\"></script> "
            ],
            "text/plain": [
              "<IPython.core.display.HTML object>"
            ]
          },
          "metadata": {
            "tags": []
          }
        },
        {
          "output_type": "stream",
          "text": [
            "Saving kaggle.json to kaggle.json\n",
            "Downloading nba-salaries-prediction-in-20172018-season.zip to /content\n",
            "  0% 0.00/27.3k [00:00<?, ?B/s]\n",
            "100% 27.3k/27.3k [00:00<00:00, 22.3MB/s]\n"
          ],
          "name": "stdout"
        }
      ]
    },
    {
      "cell_type": "code",
      "metadata": {
        "id": "RpmOuQOuLiEz",
        "colab_type": "code",
        "colab": {
          "base_uri": "https://localhost:8080/",
          "height": 72
        },
        "outputId": "46810fdd-d80a-468d-fcc4-7b000c81989d"
      },
      "source": [
        "import pandas as pd\n",
        "import numpy as np \n",
        "import matplotlib.pyplot as plt \n",
        "import seaborn as sns"
      ],
      "execution_count": 2,
      "outputs": [
        {
          "output_type": "stream",
          "text": [
            "/usr/local/lib/python3.6/dist-packages/statsmodels/tools/_testing.py:19: FutureWarning: pandas.util.testing is deprecated. Use the functions in the public API at pandas.testing instead.\n",
            "  import pandas.util.testing as tm\n"
          ],
          "name": "stderr"
        }
      ]
    },
    {
      "cell_type": "code",
      "metadata": {
        "id": "KcLoS5asLn6q",
        "colab_type": "code",
        "colab": {}
      },
      "source": [
        "df=pd.read_csv('/content/nba-salaries-prediction-in-20172018-season.zip')"
      ],
      "execution_count": 4,
      "outputs": []
    },
    {
      "cell_type": "code",
      "metadata": {
        "id": "zLeI3R-pQPhB",
        "colab_type": "code",
        "colab": {
          "base_uri": "https://localhost:8080/",
          "height": 166
        },
        "outputId": "5856112d-3b37-44f6-87d7-800308d91230"
      },
      "source": [
        "null_values_col =df.isnull().sum()\n",
        "null_values_col = null_values_col[null_values_col != 0].sort_values(ascending = False).reset_index()\n",
        "null_values_col.columns = [\"variable\", \"number of missing\"]\n",
        "null_values_col.head()"
      ],
      "execution_count": 5,
      "outputs": [
        {
          "output_type": "execute_result",
          "data": {
            "text/html": [
              "<div>\n",
              "<style scoped>\n",
              "    .dataframe tbody tr th:only-of-type {\n",
              "        vertical-align: middle;\n",
              "    }\n",
              "\n",
              "    .dataframe tbody tr th {\n",
              "        vertical-align: top;\n",
              "    }\n",
              "\n",
              "    .dataframe thead th {\n",
              "        text-align: right;\n",
              "    }\n",
              "</style>\n",
              "<table border=\"1\" class=\"dataframe\">\n",
              "  <thead>\n",
              "    <tr style=\"text-align: right;\">\n",
              "      <th></th>\n",
              "      <th>variable</th>\n",
              "      <th>number of missing</th>\n",
              "    </tr>\n",
              "  </thead>\n",
              "  <tbody>\n",
              "    <tr>\n",
              "      <th>0</th>\n",
              "      <td>TOV%</td>\n",
              "      <td>2</td>\n",
              "    </tr>\n",
              "    <tr>\n",
              "      <th>1</th>\n",
              "      <td>FTr</td>\n",
              "      <td>2</td>\n",
              "    </tr>\n",
              "    <tr>\n",
              "      <th>2</th>\n",
              "      <td>3PAr</td>\n",
              "      <td>2</td>\n",
              "    </tr>\n",
              "    <tr>\n",
              "      <th>3</th>\n",
              "      <td>TS%</td>\n",
              "      <td>2</td>\n",
              "    </tr>\n",
              "  </tbody>\n",
              "</table>\n",
              "</div>"
            ],
            "text/plain": [
              "  variable  number of missing\n",
              "0     TOV%                  2\n",
              "1      FTr                  2\n",
              "2     3PAr                  2\n",
              "3      TS%                  2"
            ]
          },
          "metadata": {
            "tags": []
          },
          "execution_count": 5
        }
      ]
    },
    {
      "cell_type": "code",
      "metadata": {
        "id": "5RD3JWxPRJlR",
        "colab_type": "code",
        "colab": {}
      },
      "source": [
        "def fillWithMedian(df):\n",
        "    return df.fillna(df.median(), inplace=True)\n",
        "\n",
        "fillWithMedian(df)"
      ],
      "execution_count": 6,
      "outputs": []
    },
    {
      "cell_type": "code",
      "metadata": {
        "id": "nVYC7ZMORDLO",
        "colab_type": "code",
        "colab": {
          "base_uri": "https://localhost:8080/",
          "height": 527
        },
        "outputId": "90de1097-8cf0-4323-8ac1-9a1af5be5b2b"
      },
      "source": [
        "df.isnull().any()"
      ],
      "execution_count": 7,
      "outputs": [
        {
          "output_type": "execute_result",
          "data": {
            "text/plain": [
              "Player             False\n",
              "Salary             False\n",
              "NBA_Country        False\n",
              "NBA_DraftNumber    False\n",
              "Age                False\n",
              "Tm                 False\n",
              "G                  False\n",
              "MP                 False\n",
              "PER                False\n",
              "TS%                False\n",
              "3PAr               False\n",
              "FTr                False\n",
              "ORB%               False\n",
              "DRB%               False\n",
              "TRB%               False\n",
              "AST%               False\n",
              "STL%               False\n",
              "BLK%               False\n",
              "TOV%               False\n",
              "USG%               False\n",
              "OWS                False\n",
              "DWS                False\n",
              "WS                 False\n",
              "WS/48              False\n",
              "OBPM               False\n",
              "DBPM               False\n",
              "BPM                False\n",
              "VORP               False\n",
              "dtype: bool"
            ]
          },
          "metadata": {
            "tags": []
          },
          "execution_count": 7
        }
      ]
    },
    {
      "cell_type": "code",
      "metadata": {
        "id": "NBfqzX1cOoyo",
        "colab_type": "code",
        "colab": {
          "base_uri": "https://localhost:8080/",
          "height": 304
        },
        "outputId": "5ef33a7b-89f4-45b7-8472-f13d1966ad6f"
      },
      "source": [
        "df.describe()"
      ],
      "execution_count": 8,
      "outputs": [
        {
          "output_type": "execute_result",
          "data": {
            "text/html": [
              "<div>\n",
              "<style scoped>\n",
              "    .dataframe tbody tr th:only-of-type {\n",
              "        vertical-align: middle;\n",
              "    }\n",
              "\n",
              "    .dataframe tbody tr th {\n",
              "        vertical-align: top;\n",
              "    }\n",
              "\n",
              "    .dataframe thead th {\n",
              "        text-align: right;\n",
              "    }\n",
              "</style>\n",
              "<table border=\"1\" class=\"dataframe\">\n",
              "  <thead>\n",
              "    <tr style=\"text-align: right;\">\n",
              "      <th></th>\n",
              "      <th>Salary</th>\n",
              "      <th>NBA_DraftNumber</th>\n",
              "      <th>Age</th>\n",
              "      <th>G</th>\n",
              "      <th>MP</th>\n",
              "      <th>PER</th>\n",
              "      <th>TS%</th>\n",
              "      <th>3PAr</th>\n",
              "      <th>FTr</th>\n",
              "      <th>ORB%</th>\n",
              "      <th>DRB%</th>\n",
              "      <th>TRB%</th>\n",
              "      <th>AST%</th>\n",
              "      <th>STL%</th>\n",
              "      <th>BLK%</th>\n",
              "      <th>TOV%</th>\n",
              "      <th>USG%</th>\n",
              "      <th>OWS</th>\n",
              "      <th>DWS</th>\n",
              "      <th>WS</th>\n",
              "      <th>WS/48</th>\n",
              "      <th>OBPM</th>\n",
              "      <th>DBPM</th>\n",
              "      <th>BPM</th>\n",
              "      <th>VORP</th>\n",
              "    </tr>\n",
              "  </thead>\n",
              "  <tbody>\n",
              "    <tr>\n",
              "      <th>count</th>\n",
              "      <td>4.850000e+02</td>\n",
              "      <td>485.000000</td>\n",
              "      <td>485.000000</td>\n",
              "      <td>485.000000</td>\n",
              "      <td>485.000000</td>\n",
              "      <td>485.000000</td>\n",
              "      <td>485.000000</td>\n",
              "      <td>485.000000</td>\n",
              "      <td>485.000000</td>\n",
              "      <td>485.000000</td>\n",
              "      <td>485.000000</td>\n",
              "      <td>485.000000</td>\n",
              "      <td>485.000000</td>\n",
              "      <td>485.000000</td>\n",
              "      <td>485.000000</td>\n",
              "      <td>485.000000</td>\n",
              "      <td>485.000000</td>\n",
              "      <td>485.000000</td>\n",
              "      <td>485.000000</td>\n",
              "      <td>485.000000</td>\n",
              "      <td>485.000000</td>\n",
              "      <td>485.000000</td>\n",
              "      <td>485.000000</td>\n",
              "      <td>485.000000</td>\n",
              "      <td>485.000000</td>\n",
              "    </tr>\n",
              "    <tr>\n",
              "      <th>mean</th>\n",
              "      <td>6.636507e+06</td>\n",
              "      <td>29.451546</td>\n",
              "      <td>26.263918</td>\n",
              "      <td>50.167010</td>\n",
              "      <td>1154.142268</td>\n",
              "      <td>13.260825</td>\n",
              "      <td>0.535427</td>\n",
              "      <td>0.337419</td>\n",
              "      <td>0.263270</td>\n",
              "      <td>4.873814</td>\n",
              "      <td>14.950722</td>\n",
              "      <td>9.908247</td>\n",
              "      <td>12.947835</td>\n",
              "      <td>1.529485</td>\n",
              "      <td>1.713196</td>\n",
              "      <td>13.137732</td>\n",
              "      <td>18.897320</td>\n",
              "      <td>1.275464</td>\n",
              "      <td>1.176495</td>\n",
              "      <td>2.455258</td>\n",
              "      <td>0.079959</td>\n",
              "      <td>-1.270722</td>\n",
              "      <td>-0.489485</td>\n",
              "      <td>-1.760206</td>\n",
              "      <td>0.598763</td>\n",
              "    </tr>\n",
              "    <tr>\n",
              "      <th>std</th>\n",
              "      <td>7.392602e+06</td>\n",
              "      <td>21.125760</td>\n",
              "      <td>4.272297</td>\n",
              "      <td>24.874872</td>\n",
              "      <td>811.357419</td>\n",
              "      <td>8.769280</td>\n",
              "      <td>0.112121</td>\n",
              "      <td>0.226425</td>\n",
              "      <td>0.293976</td>\n",
              "      <td>4.582810</td>\n",
              "      <td>6.847530</td>\n",
              "      <td>4.956436</td>\n",
              "      <td>9.112408</td>\n",
              "      <td>0.989562</td>\n",
              "      <td>1.683792</td>\n",
              "      <td>6.102780</td>\n",
              "      <td>5.940536</td>\n",
              "      <td>1.881444</td>\n",
              "      <td>1.034580</td>\n",
              "      <td>2.673670</td>\n",
              "      <td>0.162992</td>\n",
              "      <td>5.026275</td>\n",
              "      <td>2.389343</td>\n",
              "      <td>5.661447</td>\n",
              "      <td>1.245653</td>\n",
              "    </tr>\n",
              "    <tr>\n",
              "      <th>min</th>\n",
              "      <td>4.608000e+04</td>\n",
              "      <td>1.000000</td>\n",
              "      <td>19.000000</td>\n",
              "      <td>1.000000</td>\n",
              "      <td>1.000000</td>\n",
              "      <td>-41.100000</td>\n",
              "      <td>0.000000</td>\n",
              "      <td>0.000000</td>\n",
              "      <td>0.000000</td>\n",
              "      <td>0.000000</td>\n",
              "      <td>0.000000</td>\n",
              "      <td>0.000000</td>\n",
              "      <td>0.000000</td>\n",
              "      <td>0.000000</td>\n",
              "      <td>0.000000</td>\n",
              "      <td>0.000000</td>\n",
              "      <td>0.000000</td>\n",
              "      <td>-2.300000</td>\n",
              "      <td>0.000000</td>\n",
              "      <td>-1.200000</td>\n",
              "      <td>-1.063000</td>\n",
              "      <td>-36.500000</td>\n",
              "      <td>-14.300000</td>\n",
              "      <td>-49.200000</td>\n",
              "      <td>-1.300000</td>\n",
              "    </tr>\n",
              "    <tr>\n",
              "      <th>25%</th>\n",
              "      <td>1.471382e+06</td>\n",
              "      <td>11.000000</td>\n",
              "      <td>23.000000</td>\n",
              "      <td>29.000000</td>\n",
              "      <td>381.000000</td>\n",
              "      <td>9.800000</td>\n",
              "      <td>0.506000</td>\n",
              "      <td>0.167000</td>\n",
              "      <td>0.155000</td>\n",
              "      <td>1.800000</td>\n",
              "      <td>10.200000</td>\n",
              "      <td>6.200000</td>\n",
              "      <td>6.900000</td>\n",
              "      <td>1.000000</td>\n",
              "      <td>0.600000</td>\n",
              "      <td>9.900000</td>\n",
              "      <td>15.000000</td>\n",
              "      <td>0.000000</td>\n",
              "      <td>0.300000</td>\n",
              "      <td>0.300000</td>\n",
              "      <td>0.040000</td>\n",
              "      <td>-2.700000</td>\n",
              "      <td>-1.700000</td>\n",
              "      <td>-3.600000</td>\n",
              "      <td>-0.100000</td>\n",
              "    </tr>\n",
              "    <tr>\n",
              "      <th>50%</th>\n",
              "      <td>3.202217e+06</td>\n",
              "      <td>25.000000</td>\n",
              "      <td>26.000000</td>\n",
              "      <td>59.000000</td>\n",
              "      <td>1134.000000</td>\n",
              "      <td>13.200000</td>\n",
              "      <td>0.545000</td>\n",
              "      <td>0.346000</td>\n",
              "      <td>0.231000</td>\n",
              "      <td>3.200000</td>\n",
              "      <td>14.000000</td>\n",
              "      <td>8.700000</td>\n",
              "      <td>9.900000</td>\n",
              "      <td>1.500000</td>\n",
              "      <td>1.200000</td>\n",
              "      <td>12.500000</td>\n",
              "      <td>17.900000</td>\n",
              "      <td>0.800000</td>\n",
              "      <td>1.000000</td>\n",
              "      <td>1.800000</td>\n",
              "      <td>0.083000</td>\n",
              "      <td>-1.100000</td>\n",
              "      <td>-0.400000</td>\n",
              "      <td>-1.300000</td>\n",
              "      <td>0.100000</td>\n",
              "    </tr>\n",
              "    <tr>\n",
              "      <th>75%</th>\n",
              "      <td>1.000000e+07</td>\n",
              "      <td>47.000000</td>\n",
              "      <td>29.000000</td>\n",
              "      <td>71.000000</td>\n",
              "      <td>1819.000000</td>\n",
              "      <td>16.500000</td>\n",
              "      <td>0.582000</td>\n",
              "      <td>0.480000</td>\n",
              "      <td>0.319000</td>\n",
              "      <td>7.000000</td>\n",
              "      <td>18.800000</td>\n",
              "      <td>13.300000</td>\n",
              "      <td>17.600000</td>\n",
              "      <td>1.900000</td>\n",
              "      <td>2.200000</td>\n",
              "      <td>15.700000</td>\n",
              "      <td>22.200000</td>\n",
              "      <td>2.000000</td>\n",
              "      <td>1.800000</td>\n",
              "      <td>3.600000</td>\n",
              "      <td>0.123000</td>\n",
              "      <td>0.400000</td>\n",
              "      <td>1.000000</td>\n",
              "      <td>0.500000</td>\n",
              "      <td>0.900000</td>\n",
              "    </tr>\n",
              "    <tr>\n",
              "      <th>max</th>\n",
              "      <td>3.468255e+07</td>\n",
              "      <td>62.000000</td>\n",
              "      <td>41.000000</td>\n",
              "      <td>79.000000</td>\n",
              "      <td>2898.000000</td>\n",
              "      <td>134.100000</td>\n",
              "      <td>1.500000</td>\n",
              "      <td>1.000000</td>\n",
              "      <td>5.333000</td>\n",
              "      <td>35.900000</td>\n",
              "      <td>37.600000</td>\n",
              "      <td>26.500000</td>\n",
              "      <td>49.400000</td>\n",
              "      <td>12.500000</td>\n",
              "      <td>13.400000</td>\n",
              "      <td>66.700000</td>\n",
              "      <td>45.100000</td>\n",
              "      <td>11.400000</td>\n",
              "      <td>5.600000</td>\n",
              "      <td>15.000000</td>\n",
              "      <td>2.713000</td>\n",
              "      <td>68.700000</td>\n",
              "      <td>6.800000</td>\n",
              "      <td>54.400000</td>\n",
              "      <td>8.600000</td>\n",
              "    </tr>\n",
              "  </tbody>\n",
              "</table>\n",
              "</div>"
            ],
            "text/plain": [
              "             Salary  NBA_DraftNumber  ...         BPM        VORP\n",
              "count  4.850000e+02       485.000000  ...  485.000000  485.000000\n",
              "mean   6.636507e+06        29.451546  ...   -1.760206    0.598763\n",
              "std    7.392602e+06        21.125760  ...    5.661447    1.245653\n",
              "min    4.608000e+04         1.000000  ...  -49.200000   -1.300000\n",
              "25%    1.471382e+06        11.000000  ...   -3.600000   -0.100000\n",
              "50%    3.202217e+06        25.000000  ...   -1.300000    0.100000\n",
              "75%    1.000000e+07        47.000000  ...    0.500000    0.900000\n",
              "max    3.468255e+07        62.000000  ...   54.400000    8.600000\n",
              "\n",
              "[8 rows x 25 columns]"
            ]
          },
          "metadata": {
            "tags": []
          },
          "execution_count": 8
        }
      ]
    },
    {
      "cell_type": "code",
      "metadata": {
        "id": "cfsavqj1PRNL",
        "colab_type": "code",
        "colab": {
          "base_uri": "https://localhost:8080/",
          "height": 464
        },
        "outputId": "6be08189-84ac-4ea1-cb7e-fe03a850637c"
      },
      "source": [
        "df.head(10)"
      ],
      "execution_count": 9,
      "outputs": [
        {
          "output_type": "execute_result",
          "data": {
            "text/html": [
              "<div>\n",
              "<style scoped>\n",
              "    .dataframe tbody tr th:only-of-type {\n",
              "        vertical-align: middle;\n",
              "    }\n",
              "\n",
              "    .dataframe tbody tr th {\n",
              "        vertical-align: top;\n",
              "    }\n",
              "\n",
              "    .dataframe thead th {\n",
              "        text-align: right;\n",
              "    }\n",
              "</style>\n",
              "<table border=\"1\" class=\"dataframe\">\n",
              "  <thead>\n",
              "    <tr style=\"text-align: right;\">\n",
              "      <th></th>\n",
              "      <th>Player</th>\n",
              "      <th>Salary</th>\n",
              "      <th>NBA_Country</th>\n",
              "      <th>NBA_DraftNumber</th>\n",
              "      <th>Age</th>\n",
              "      <th>Tm</th>\n",
              "      <th>G</th>\n",
              "      <th>MP</th>\n",
              "      <th>PER</th>\n",
              "      <th>TS%</th>\n",
              "      <th>3PAr</th>\n",
              "      <th>FTr</th>\n",
              "      <th>ORB%</th>\n",
              "      <th>DRB%</th>\n",
              "      <th>TRB%</th>\n",
              "      <th>AST%</th>\n",
              "      <th>STL%</th>\n",
              "      <th>BLK%</th>\n",
              "      <th>TOV%</th>\n",
              "      <th>USG%</th>\n",
              "      <th>OWS</th>\n",
              "      <th>DWS</th>\n",
              "      <th>WS</th>\n",
              "      <th>WS/48</th>\n",
              "      <th>OBPM</th>\n",
              "      <th>DBPM</th>\n",
              "      <th>BPM</th>\n",
              "      <th>VORP</th>\n",
              "    </tr>\n",
              "  </thead>\n",
              "  <tbody>\n",
              "    <tr>\n",
              "      <th>0</th>\n",
              "      <td>Zhou Qi</td>\n",
              "      <td>815615</td>\n",
              "      <td>China</td>\n",
              "      <td>43</td>\n",
              "      <td>22</td>\n",
              "      <td>HOU</td>\n",
              "      <td>16</td>\n",
              "      <td>87</td>\n",
              "      <td>0.6</td>\n",
              "      <td>0.303</td>\n",
              "      <td>0.593</td>\n",
              "      <td>0.370</td>\n",
              "      <td>6.5</td>\n",
              "      <td>16.8</td>\n",
              "      <td>11.7</td>\n",
              "      <td>1.5</td>\n",
              "      <td>1.1</td>\n",
              "      <td>6.8</td>\n",
              "      <td>18.2</td>\n",
              "      <td>19.5</td>\n",
              "      <td>-0.4</td>\n",
              "      <td>0.1</td>\n",
              "      <td>-0.2</td>\n",
              "      <td>-0.121</td>\n",
              "      <td>-10.6</td>\n",
              "      <td>0.5</td>\n",
              "      <td>-10.1</td>\n",
              "      <td>-0.2</td>\n",
              "    </tr>\n",
              "    <tr>\n",
              "      <th>1</th>\n",
              "      <td>Zaza Pachulia</td>\n",
              "      <td>3477600</td>\n",
              "      <td>Georgia</td>\n",
              "      <td>42</td>\n",
              "      <td>33</td>\n",
              "      <td>GSW</td>\n",
              "      <td>66</td>\n",
              "      <td>937</td>\n",
              "      <td>16.8</td>\n",
              "      <td>0.608</td>\n",
              "      <td>0.004</td>\n",
              "      <td>0.337</td>\n",
              "      <td>11.0</td>\n",
              "      <td>25.0</td>\n",
              "      <td>18.5</td>\n",
              "      <td>15.4</td>\n",
              "      <td>1.9</td>\n",
              "      <td>1.3</td>\n",
              "      <td>19.3</td>\n",
              "      <td>17.2</td>\n",
              "      <td>1.7</td>\n",
              "      <td>1.4</td>\n",
              "      <td>3.1</td>\n",
              "      <td>0.160</td>\n",
              "      <td>-0.6</td>\n",
              "      <td>1.3</td>\n",
              "      <td>0.8</td>\n",
              "      <td>0.7</td>\n",
              "    </tr>\n",
              "    <tr>\n",
              "      <th>2</th>\n",
              "      <td>Zach Randolph</td>\n",
              "      <td>12307692</td>\n",
              "      <td>USA</td>\n",
              "      <td>19</td>\n",
              "      <td>36</td>\n",
              "      <td>SAC</td>\n",
              "      <td>59</td>\n",
              "      <td>1508</td>\n",
              "      <td>17.3</td>\n",
              "      <td>0.529</td>\n",
              "      <td>0.193</td>\n",
              "      <td>0.140</td>\n",
              "      <td>7.0</td>\n",
              "      <td>23.8</td>\n",
              "      <td>15.0</td>\n",
              "      <td>14.9</td>\n",
              "      <td>1.4</td>\n",
              "      <td>0.6</td>\n",
              "      <td>12.5</td>\n",
              "      <td>27.6</td>\n",
              "      <td>0.3</td>\n",
              "      <td>1.1</td>\n",
              "      <td>1.4</td>\n",
              "      <td>0.046</td>\n",
              "      <td>-0.6</td>\n",
              "      <td>-1.3</td>\n",
              "      <td>-1.9</td>\n",
              "      <td>0.0</td>\n",
              "    </tr>\n",
              "    <tr>\n",
              "      <th>3</th>\n",
              "      <td>Zach LaVine</td>\n",
              "      <td>3202217</td>\n",
              "      <td>USA</td>\n",
              "      <td>13</td>\n",
              "      <td>22</td>\n",
              "      <td>CHI</td>\n",
              "      <td>24</td>\n",
              "      <td>656</td>\n",
              "      <td>14.6</td>\n",
              "      <td>0.499</td>\n",
              "      <td>0.346</td>\n",
              "      <td>0.301</td>\n",
              "      <td>1.4</td>\n",
              "      <td>14.4</td>\n",
              "      <td>7.7</td>\n",
              "      <td>18.6</td>\n",
              "      <td>1.8</td>\n",
              "      <td>0.5</td>\n",
              "      <td>9.7</td>\n",
              "      <td>29.5</td>\n",
              "      <td>-0.1</td>\n",
              "      <td>0.5</td>\n",
              "      <td>0.4</td>\n",
              "      <td>0.027</td>\n",
              "      <td>-0.7</td>\n",
              "      <td>-2.0</td>\n",
              "      <td>-2.6</td>\n",
              "      <td>-0.1</td>\n",
              "    </tr>\n",
              "    <tr>\n",
              "      <th>4</th>\n",
              "      <td>Zach Collins</td>\n",
              "      <td>3057240</td>\n",
              "      <td>USA</td>\n",
              "      <td>10</td>\n",
              "      <td>20</td>\n",
              "      <td>POR</td>\n",
              "      <td>62</td>\n",
              "      <td>979</td>\n",
              "      <td>8.2</td>\n",
              "      <td>0.487</td>\n",
              "      <td>0.387</td>\n",
              "      <td>0.146</td>\n",
              "      <td>4.9</td>\n",
              "      <td>18.3</td>\n",
              "      <td>11.7</td>\n",
              "      <td>7.3</td>\n",
              "      <td>0.8</td>\n",
              "      <td>2.5</td>\n",
              "      <td>15.6</td>\n",
              "      <td>15.5</td>\n",
              "      <td>-0.4</td>\n",
              "      <td>1.2</td>\n",
              "      <td>0.8</td>\n",
              "      <td>0.038</td>\n",
              "      <td>-3.7</td>\n",
              "      <td>0.9</td>\n",
              "      <td>-2.9</td>\n",
              "      <td>-0.2</td>\n",
              "    </tr>\n",
              "    <tr>\n",
              "      <th>5</th>\n",
              "      <td>Yogi Ferrell</td>\n",
              "      <td>1312611</td>\n",
              "      <td>USA</td>\n",
              "      <td>62</td>\n",
              "      <td>24</td>\n",
              "      <td>DAL</td>\n",
              "      <td>79</td>\n",
              "      <td>2238</td>\n",
              "      <td>11.5</td>\n",
              "      <td>0.543</td>\n",
              "      <td>0.489</td>\n",
              "      <td>0.141</td>\n",
              "      <td>1.3</td>\n",
              "      <td>11.3</td>\n",
              "      <td>6.1</td>\n",
              "      <td>13.3</td>\n",
              "      <td>1.4</td>\n",
              "      <td>0.3</td>\n",
              "      <td>9.1</td>\n",
              "      <td>17.0</td>\n",
              "      <td>1.6</td>\n",
              "      <td>1.6</td>\n",
              "      <td>3.1</td>\n",
              "      <td>0.067</td>\n",
              "      <td>-0.4</td>\n",
              "      <td>-0.5</td>\n",
              "      <td>-0.9</td>\n",
              "      <td>0.6</td>\n",
              "    </tr>\n",
              "    <tr>\n",
              "      <th>6</th>\n",
              "      <td>Xavier Silas</td>\n",
              "      <td>74159</td>\n",
              "      <td>USA</td>\n",
              "      <td>62</td>\n",
              "      <td>30</td>\n",
              "      <td>BOS</td>\n",
              "      <td>2</td>\n",
              "      <td>7</td>\n",
              "      <td>-4.9</td>\n",
              "      <td>0.000</td>\n",
              "      <td>0.667</td>\n",
              "      <td>0.000</td>\n",
              "      <td>15.9</td>\n",
              "      <td>15.4</td>\n",
              "      <td>15.7</td>\n",
              "      <td>0.0</td>\n",
              "      <td>7.2</td>\n",
              "      <td>0.0</td>\n",
              "      <td>0.0</td>\n",
              "      <td>19.2</td>\n",
              "      <td>-0.1</td>\n",
              "      <td>0.0</td>\n",
              "      <td>0.0</td>\n",
              "      <td>-0.251</td>\n",
              "      <td>-12.6</td>\n",
              "      <td>-0.7</td>\n",
              "      <td>-13.3</td>\n",
              "      <td>0.0</td>\n",
              "    </tr>\n",
              "    <tr>\n",
              "      <th>7</th>\n",
              "      <td>Xavier Rathan-Mayes</td>\n",
              "      <td>46080</td>\n",
              "      <td>Canada</td>\n",
              "      <td>62</td>\n",
              "      <td>23</td>\n",
              "      <td>MEM</td>\n",
              "      <td>5</td>\n",
              "      <td>118</td>\n",
              "      <td>0.9</td>\n",
              "      <td>0.315</td>\n",
              "      <td>0.333</td>\n",
              "      <td>0.214</td>\n",
              "      <td>0.0</td>\n",
              "      <td>5.0</td>\n",
              "      <td>2.5</td>\n",
              "      <td>23.2</td>\n",
              "      <td>2.6</td>\n",
              "      <td>2.4</td>\n",
              "      <td>19.3</td>\n",
              "      <td>21.7</td>\n",
              "      <td>-0.5</td>\n",
              "      <td>0.1</td>\n",
              "      <td>-0.4</td>\n",
              "      <td>-0.169</td>\n",
              "      <td>-8.7</td>\n",
              "      <td>-1.9</td>\n",
              "      <td>-10.6</td>\n",
              "      <td>-0.3</td>\n",
              "    </tr>\n",
              "    <tr>\n",
              "      <th>8</th>\n",
              "      <td>Wilson Chandler</td>\n",
              "      <td>12016854</td>\n",
              "      <td>USA</td>\n",
              "      <td>23</td>\n",
              "      <td>30</td>\n",
              "      <td>DEN</td>\n",
              "      <td>70</td>\n",
              "      <td>2200</td>\n",
              "      <td>11.1</td>\n",
              "      <td>0.543</td>\n",
              "      <td>0.390</td>\n",
              "      <td>0.186</td>\n",
              "      <td>5.0</td>\n",
              "      <td>14.0</td>\n",
              "      <td>9.5</td>\n",
              "      <td>9.7</td>\n",
              "      <td>0.9</td>\n",
              "      <td>1.4</td>\n",
              "      <td>12.0</td>\n",
              "      <td>14.6</td>\n",
              "      <td>2.0</td>\n",
              "      <td>1.0</td>\n",
              "      <td>3.1</td>\n",
              "      <td>0.067</td>\n",
              "      <td>-0.4</td>\n",
              "      <td>-0.6</td>\n",
              "      <td>-1.0</td>\n",
              "      <td>0.5</td>\n",
              "    </tr>\n",
              "    <tr>\n",
              "      <th>9</th>\n",
              "      <td>Willy Hernangomez</td>\n",
              "      <td>1435750</td>\n",
              "      <td>Spain</td>\n",
              "      <td>35</td>\n",
              "      <td>23</td>\n",
              "      <td>TOT</td>\n",
              "      <td>45</td>\n",
              "      <td>430</td>\n",
              "      <td>20.6</td>\n",
              "      <td>0.592</td>\n",
              "      <td>0.075</td>\n",
              "      <td>0.555</td>\n",
              "      <td>13.6</td>\n",
              "      <td>25.2</td>\n",
              "      <td>19.3</td>\n",
              "      <td>11.0</td>\n",
              "      <td>1.8</td>\n",
              "      <td>2.8</td>\n",
              "      <td>15.4</td>\n",
              "      <td>21.7</td>\n",
              "      <td>0.8</td>\n",
              "      <td>0.6</td>\n",
              "      <td>1.4</td>\n",
              "      <td>0.156</td>\n",
              "      <td>-0.1</td>\n",
              "      <td>0.6</td>\n",
              "      <td>0.5</td>\n",
              "      <td>0.3</td>\n",
              "    </tr>\n",
              "  </tbody>\n",
              "</table>\n",
              "</div>"
            ],
            "text/plain": [
              "                Player    Salary NBA_Country  ...  DBPM   BPM VORP\n",
              "0              Zhou Qi    815615       China  ...   0.5 -10.1 -0.2\n",
              "1        Zaza Pachulia   3477600     Georgia  ...   1.3   0.8  0.7\n",
              "2        Zach Randolph  12307692         USA  ...  -1.3  -1.9  0.0\n",
              "3          Zach LaVine   3202217         USA  ...  -2.0  -2.6 -0.1\n",
              "4         Zach Collins   3057240         USA  ...   0.9  -2.9 -0.2\n",
              "5         Yogi Ferrell   1312611         USA  ...  -0.5  -0.9  0.6\n",
              "6         Xavier Silas     74159         USA  ...  -0.7 -13.3  0.0\n",
              "7  Xavier Rathan-Mayes     46080      Canada  ...  -1.9 -10.6 -0.3\n",
              "8      Wilson Chandler  12016854         USA  ...  -0.6  -1.0  0.5\n",
              "9    Willy Hernangomez   1435750       Spain  ...   0.6   0.5  0.3\n",
              "\n",
              "[10 rows x 28 columns]"
            ]
          },
          "metadata": {
            "tags": []
          },
          "execution_count": 9
        }
      ]
    },
    {
      "cell_type": "code",
      "metadata": {
        "id": "jbcI3b_LPT2V",
        "colab_type": "code",
        "colab": {
          "base_uri": "https://localhost:8080/",
          "height": 34
        },
        "outputId": "013f19f0-9e28-4e44-82d1-c88b1b3cd1cd"
      },
      "source": [
        "df.shape"
      ],
      "execution_count": 10,
      "outputs": [
        {
          "output_type": "execute_result",
          "data": {
            "text/plain": [
              "(485, 28)"
            ]
          },
          "metadata": {
            "tags": []
          },
          "execution_count": 10
        }
      ]
    },
    {
      "cell_type": "code",
      "metadata": {
        "id": "vCLC_oWZPV83",
        "colab_type": "code",
        "colab": {
          "base_uri": "https://localhost:8080/",
          "height": 633
        },
        "outputId": "8c2920ea-ee70-4bcd-8dcb-b672e5892f76"
      },
      "source": [
        "df.info()"
      ],
      "execution_count": 11,
      "outputs": [
        {
          "output_type": "stream",
          "text": [
            "<class 'pandas.core.frame.DataFrame'>\n",
            "RangeIndex: 485 entries, 0 to 484\n",
            "Data columns (total 28 columns):\n",
            " #   Column           Non-Null Count  Dtype  \n",
            "---  ------           --------------  -----  \n",
            " 0   Player           485 non-null    object \n",
            " 1   Salary           485 non-null    int64  \n",
            " 2   NBA_Country      485 non-null    object \n",
            " 3   NBA_DraftNumber  485 non-null    int64  \n",
            " 4   Age              485 non-null    int64  \n",
            " 5   Tm               485 non-null    object \n",
            " 6   G                485 non-null    int64  \n",
            " 7   MP               485 non-null    int64  \n",
            " 8   PER              485 non-null    float64\n",
            " 9   TS%              485 non-null    float64\n",
            " 10  3PAr             485 non-null    float64\n",
            " 11  FTr              485 non-null    float64\n",
            " 12  ORB%             485 non-null    float64\n",
            " 13  DRB%             485 non-null    float64\n",
            " 14  TRB%             485 non-null    float64\n",
            " 15  AST%             485 non-null    float64\n",
            " 16  STL%             485 non-null    float64\n",
            " 17  BLK%             485 non-null    float64\n",
            " 18  TOV%             485 non-null    float64\n",
            " 19  USG%             485 non-null    float64\n",
            " 20  OWS              485 non-null    float64\n",
            " 21  DWS              485 non-null    float64\n",
            " 22  WS               485 non-null    float64\n",
            " 23  WS/48            485 non-null    float64\n",
            " 24  OBPM             485 non-null    float64\n",
            " 25  DBPM             485 non-null    float64\n",
            " 26  BPM              485 non-null    float64\n",
            " 27  VORP             485 non-null    float64\n",
            "dtypes: float64(20), int64(5), object(3)\n",
            "memory usage: 106.2+ KB\n"
          ],
          "name": "stdout"
        }
      ]
    },
    {
      "cell_type": "code",
      "metadata": {
        "id": "0oGdVFG8Pczr",
        "colab_type": "code",
        "colab": {
          "base_uri": "https://localhost:8080/",
          "height": 291
        },
        "outputId": "6c5e42e9-bec0-4402-d7c0-e27a8aa011d1"
      },
      "source": [
        "ax=sns.regplot(x='NBA_DraftNumber',y='Salary',data=df)"
      ],
      "execution_count": 12,
      "outputs": [
        {
          "output_type": "display_data",
          "data": {
            "image/png": "[encoded data removed]",
            "text/plain": [
              "<Figure size 432x288 with 1 Axes>"
            ]
          },
          "metadata": {
            "tags": [],
            "needs_background": "light"
          }
        }
      ]
    },
    {
      "cell_type": "code",
      "metadata": {
        "id": "qlhX5_LrQCTS",
        "colab_type": "code",
        "colab": {
          "base_uri": "https://localhost:8080/",
          "height": 290
        },
        "outputId": "fcf11855-584b-4cae-830e-bb004a4c5591"
      },
      "source": [
        "ax=sns.regplot(x='Age',y='Salary',data=df)"
      ],
      "execution_count": 13,
      "outputs": [
        {
          "output_type": "display_data",
          "data": {
            "image/png": "[encoded data removed]",
            "text/plain": [
              "<Figure size 432x288 with 1 Axes>"
            ]
          },
          "metadata": {
            "tags": [],
            "needs_background": "light"
          }
        }
      ]
    },
    {
      "cell_type": "code",
      "metadata": {
        "id": "X8sZprb7QSq-",
        "colab_type": "code",
        "colab": {
          "base_uri": "https://localhost:8080/",
          "height": 290
        },
        "outputId": "10071671-579a-418e-a4d1-d9142b51cc7e"
      },
      "source": [
        "ax=sns.regplot(x='WS',y='Salary',data=df)"
      ],
      "execution_count": 14,
      "outputs": [
        {
          "output_type": "display_data",
          "data": {
            "image/png": "[encoded data removed]",
            "text/plain": [
              "<Figure size 432x288 with 1 Axes>"
            ]
          },
          "metadata": {
            "tags": [],
            "needs_background": "light"
          }
        }
      ]
    },
    {
      "cell_type": "code",
      "metadata": {
        "id": "4ctdzw5FQbvs",
        "colab_type": "code",
        "colab": {
          "base_uri": "https://localhost:8080/",
          "height": 290
        },
        "outputId": "e0103c71-6476-49eb-ca2f-0d57c416604d"
      },
      "source": [
        "ax=sns.regplot(x='BPM',y='Salary',data=df)"
      ],
      "execution_count": 15,
      "outputs": [
        {
          "output_type": "display_data",
          "data": {
            "image/png": "[encoded data removed]",
            "text/plain": [
              "<Figure size 432x288 with 1 Axes>"
            ]
          },
          "metadata": {
            "tags": [],
            "needs_background": "light"
          }
        }
      ]
    },
    {
      "cell_type": "code",
      "metadata": {
        "id": "roWOFuhIQ7RN",
        "colab_type": "code",
        "colab": {}
      },
      "source": [
        "x = df[['NBA_DraftNumber', 'Age', 'WS', 'BPM']]\n",
        "y = df[['Salary']]"
      ],
      "execution_count": 36,
      "outputs": []
    },
    {
      "cell_type": "code",
      "metadata": {
        "id": "SEXjAHNRlCjT",
        "colab_type": "code",
        "colab": {}
      },
      "source": [
        "from sklearn.model_selection import train_test_split\n",
        "x_train, x_test, y_train, y_test = train_test_split(x, y, test_size=0.20, random_state=1)"
      ],
      "execution_count": 37,
      "outputs": []
    },
    {
      "cell_type": "code",
      "metadata": {
        "id": "pL2_pTSYbINz",
        "colab_type": "code",
        "colab": {}
      },
      "source": [
        "import tensorflow as tf\n",
        "from tensorflow import keras\n",
        "from tensorflow.keras.optimizers import Adam\n",
        "model=keras.Sequential([keras.layers.Dense(4,activation=tf.nn.relu,input_shape=[4,]),\n",
        "                        keras.layers.Dense(4,activation=tf.nn.relu),\n",
        "                        keras.layers.Dense(1)])"
      ],
      "execution_count": 38,
      "outputs": []
    },
    {
      "cell_type": "code",
      "metadata": {
        "id": "JKvz0ywsbDOW",
        "colab_type": "code",
        "colab": {
          "base_uri": "https://localhost:8080/",
          "height": 1000
        },
        "outputId": "fcdd1b30-0544-46e9-9f33-75e7098fae1a"
      },
      "source": [
        "model.compile(loss='mean_squared_error', optimizer=Adam(0.1))\n",
        "history = model.fit(x_train,y_train,validation_split=0.25, epochs=70)"
      ],
      "execution_count": 39,
      "outputs": [
        {
          "output_type": "stream",
          "text": [
            "Epoch 1/70\n",
            "10/10 [==============================] - 0s 12ms/step - loss: 103842091892736.0000 - val_loss: 106892382699520.0000\n",
            "Epoch 2/70\n",
            "10/10 [==============================] - 0s 7ms/step - loss: 103807841206272.0000 - val_loss: 106813445898240.0000\n",
            "Epoch 3/70\n",
            "10/10 [==============================] - 0s 5ms/step - loss: 103670939123712.0000 - val_loss: 106570948018176.0000\n",
            "Epoch 4/70\n",
            "10/10 [==============================] - 0s 5ms/step - loss: 103310279311360.0000 - val_loss: 105995430789120.0000\n",
            "Epoch 5/70\n",
            "10/10 [==============================] - 0s 5ms/step - loss: 102482810241024.0000 - val_loss: 104859479048192.0000\n",
            "Epoch 6/70\n",
            "10/10 [==============================] - 0s 5ms/step - loss: 100990543986688.0000 - val_loss: 102936407441408.0000\n",
            "Epoch 7/70\n",
            "10/10 [==============================] - 0s 5ms/step - loss: 98568719302656.0000 - val_loss: 100072041742336.0000\n",
            "Epoch 8/70\n",
            "10/10 [==============================] - 0s 5ms/step - loss: 95228778250240.0000 - val_loss: 96232592637952.0000\n",
            "Epoch 9/70\n",
            "10/10 [==============================] - 0s 5ms/step - loss: 90810540359680.0000 - val_loss: 91299889807360.0000\n",
            "Epoch 10/70\n",
            "10/10 [==============================] - 0s 5ms/step - loss: 85328895410176.0000 - val_loss: 85823663898624.0000\n",
            "Epoch 11/70\n",
            "10/10 [==============================] - 0s 5ms/step - loss: 79840648626176.0000 - val_loss: 80673956167680.0000\n",
            "Epoch 12/70\n",
            "10/10 [==============================] - 0s 5ms/step - loss: 74556605726720.0000 - val_loss: 76169491775488.0000\n",
            "Epoch 13/70\n",
            "10/10 [==============================] - 0s 5ms/step - loss: 70231380721664.0000 - val_loss: 72493108822016.0000\n",
            "Epoch 14/70\n",
            "10/10 [==============================] - 0s 5ms/step - loss: 66789308366848.0000 - val_loss: 70236950757376.0000\n",
            "Epoch 15/70\n",
            "10/10 [==============================] - 0s 4ms/step - loss: 64719947825152.0000 - val_loss: 68351028101120.0000\n",
            "Epoch 16/70\n",
            "10/10 [==============================] - 0s 5ms/step - loss: 62552826445824.0000 - val_loss: 66414996094976.0000\n",
            "Epoch 17/70\n",
            "10/10 [==============================] - 0s 4ms/step - loss: 60991329009664.0000 - val_loss: 64367689203712.0000\n",
            "Epoch 18/70\n",
            "10/10 [==============================] - 0s 5ms/step - loss: 58697820667904.0000 - val_loss: 62785237024768.0000\n",
            "Epoch 19/70\n",
            "10/10 [==============================] - 0s 5ms/step - loss: 57255684734976.0000 - val_loss: 61435077984256.0000\n",
            "Epoch 20/70\n",
            "10/10 [==============================] - 0s 5ms/step - loss: 55782590644224.0000 - val_loss: 59927213113344.0000\n",
            "Epoch 21/70\n",
            "10/10 [==============================] - 0s 5ms/step - loss: 54303632916480.0000 - val_loss: 58303300239360.0000\n",
            "Epoch 22/70\n",
            "10/10 [==============================] - 0s 5ms/step - loss: 52612841865216.0000 - val_loss: 56629571616768.0000\n",
            "Epoch 23/70\n",
            "10/10 [==============================] - 0s 5ms/step - loss: 51077755961344.0000 - val_loss: 55086386511872.0000\n",
            "Epoch 24/70\n",
            "10/10 [==============================] - 0s 5ms/step - loss: 49610722639872.0000 - val_loss: 53673287745536.0000\n",
            "Epoch 25/70\n",
            "10/10 [==============================] - 0s 5ms/step - loss: 48152719654912.0000 - val_loss: 52215200874496.0000\n",
            "Epoch 26/70\n",
            "10/10 [==============================] - 0s 5ms/step - loss: 46767563341824.0000 - val_loss: 50872901959680.0000\n",
            "Epoch 27/70\n",
            "10/10 [==============================] - 0s 5ms/step - loss: 45572396417024.0000 - val_loss: 49320384528384.0000\n",
            "Epoch 28/70\n",
            "10/10 [==============================] - 0s 5ms/step - loss: 43977902391296.0000 - val_loss: 47944325660672.0000\n",
            "Epoch 29/70\n",
            "10/10 [==============================] - 0s 5ms/step - loss: 42713072271360.0000 - val_loss: 46549149155328.0000\n",
            "Epoch 30/70\n",
            "10/10 [==============================] - 0s 5ms/step - loss: 41531079655424.0000 - val_loss: 45419241406464.0000\n",
            "Epoch 31/70\n",
            "10/10 [==============================] - 0s 5ms/step - loss: 40491034869760.0000 - val_loss: 44327237582848.0000\n",
            "Epoch 32/70\n",
            "10/10 [==============================] - 0s 5ms/step - loss: 39552790036480.0000 - val_loss: 43348081508352.0000\n",
            "Epoch 33/70\n",
            "10/10 [==============================] - 0s 5ms/step - loss: 38750709088256.0000 - val_loss: 42622781489152.0000\n",
            "Epoch 34/70\n",
            "10/10 [==============================] - 0s 5ms/step - loss: 38111534907392.0000 - val_loss: 41772977750016.0000\n",
            "Epoch 35/70\n",
            "10/10 [==============================] - 0s 5ms/step - loss: 37358493761536.0000 - val_loss: 41087997575168.0000\n",
            "Epoch 36/70\n",
            "10/10 [==============================] - 0s 5ms/step - loss: 36877855883264.0000 - val_loss: 40399754231808.0000\n",
            "Epoch 37/70\n",
            "10/10 [==============================] - 0s 5ms/step - loss: 36329182199808.0000 - val_loss: 39870533730304.0000\n",
            "Epoch 38/70\n",
            "10/10 [==============================] - 0s 5ms/step - loss: 36003326722048.0000 - val_loss: 39573753167872.0000\n",
            "Epoch 39/70\n",
            "10/10 [==============================] - 0s 6ms/step - loss: 35609150226432.0000 - val_loss: 39003017445376.0000\n",
            "Epoch 40/70\n",
            "10/10 [==============================] - 0s 27ms/step - loss: 35281436672000.0000 - val_loss: 38657113194496.0000\n",
            "Epoch 41/70\n",
            "10/10 [==============================] - 0s 5ms/step - loss: 35161848676352.0000 - val_loss: 38376698806272.0000\n",
            "Epoch 42/70\n",
            "10/10 [==============================] - 0s 5ms/step - loss: 34959446245376.0000 - val_loss: 38221706690560.0000\n",
            "Epoch 43/70\n",
            "10/10 [==============================] - 0s 5ms/step - loss: 34904391811072.0000 - val_loss: 38185769893888.0000\n",
            "Epoch 44/70\n",
            "10/10 [==============================] - 0s 5ms/step - loss: 34747986214912.0000 - val_loss: 38120271642624.0000\n",
            "Epoch 45/70\n",
            "10/10 [==============================] - 0s 5ms/step - loss: 34767158378496.0000 - val_loss: 38060112740352.0000\n",
            "Epoch 46/70\n",
            "10/10 [==============================] - 0s 5ms/step - loss: 34673325506560.0000 - val_loss: 38008774459392.0000\n",
            "Epoch 47/70\n",
            "10/10 [==============================] - 0s 5ms/step - loss: 34622431821824.0000 - val_loss: 37973005434880.0000\n",
            "Epoch 48/70\n",
            "10/10 [==============================] - 0s 5ms/step - loss: 34579792527360.0000 - val_loss: 37953237680128.0000\n",
            "Epoch 49/70\n",
            "10/10 [==============================] - 0s 6ms/step - loss: 34535855095808.0000 - val_loss: 37936288497664.0000\n",
            "Epoch 50/70\n",
            "10/10 [==============================] - 0s 5ms/step - loss: 34572465078272.0000 - val_loss: 37815807115264.0000\n",
            "Epoch 51/70\n",
            "10/10 [==============================] - 0s 5ms/step - loss: 34419450576896.0000 - val_loss: 37702988726272.0000\n",
            "Epoch 52/70\n",
            "10/10 [==============================] - 0s 5ms/step - loss: 34477573144576.0000 - val_loss: 37638954287104.0000\n",
            "Epoch 53/70\n",
            "10/10 [==============================] - 0s 4ms/step - loss: 34418785779712.0000 - val_loss: 37560990564352.0000\n",
            "Epoch 54/70\n",
            "10/10 [==============================] - 0s 5ms/step - loss: 34330082541568.0000 - val_loss: 37498470268928.0000\n",
            "Epoch 55/70\n",
            "10/10 [==============================] - 0s 4ms/step - loss: 34294328197120.0000 - val_loss: 37480053080064.0000\n",
            "Epoch 56/70\n",
            "10/10 [==============================] - 0s 5ms/step - loss: 34434923364352.0000 - val_loss: 37438818877440.0000\n",
            "Epoch 57/70\n",
            "10/10 [==============================] - 0s 5ms/step - loss: 34219436802048.0000 - val_loss: 37472918568960.0000\n",
            "Epoch 58/70\n",
            "10/10 [==============================] - 0s 5ms/step - loss: 34210066726912.0000 - val_loss: 37563339374592.0000\n",
            "Epoch 59/70\n",
            "10/10 [==============================] - 0s 6ms/step - loss: 34155882610688.0000 - val_loss: 37473052786688.0000\n",
            "Epoch 60/70\n",
            "10/10 [==============================] - 0s 5ms/step - loss: 34098017992704.0000 - val_loss: 37457760354304.0000\n",
            "Epoch 61/70\n",
            "10/10 [==============================] - 0s 5ms/step - loss: 34068691419136.0000 - val_loss: 37409068679168.0000\n",
            "Epoch 62/70\n",
            "10/10 [==============================] - 0s 5ms/step - loss: 34105192349696.0000 - val_loss: 37390970257408.0000\n",
            "Epoch 63/70\n",
            "10/10 [==============================] - 0s 5ms/step - loss: 33989242912768.0000 - val_loss: 37431915053056.0000\n",
            "Epoch 64/70\n",
            "10/10 [==============================] - 0s 5ms/step - loss: 33966910341120.0000 - val_loss: 37394619301888.0000\n",
            "Epoch 65/70\n",
            "10/10 [==============================] - 0s 4ms/step - loss: 33929488760832.0000 - val_loss: 37437472505856.0000\n",
            "Epoch 66/70\n",
            "10/10 [==============================] - 0s 4ms/step - loss: 33939269877760.0000 - val_loss: 37475498065920.0000\n",
            "Epoch 67/70\n",
            "10/10 [==============================] - 0s 5ms/step - loss: 33923119710208.0000 - val_loss: 37493562933248.0000\n",
            "Epoch 68/70\n",
            "10/10 [==============================] - 0s 5ms/step - loss: 33986158002176.0000 - val_loss: 37498478657536.0000\n",
            "Epoch 69/70\n",
            "10/10 [==============================] - 0s 5ms/step - loss: 33838375895040.0000 - val_loss: 37407034441728.0000\n",
            "Epoch 70/70\n",
            "10/10 [==============================] - 0s 5ms/step - loss: 33771415928832.0000 - val_loss: 37430178611200.0000\n"
          ],
          "name": "stdout"
        }
      ]
    },
    {
      "cell_type": "code",
      "metadata": {
        "id": "unZWlHwWbgWL",
        "colab_type": "code",
        "colab": {
          "base_uri": "https://localhost:8080/",
          "height": 295
        },
        "outputId": "a11af70f-604f-4058-e977-f3d29d34ff4a"
      },
      "source": [
        "plt.plot(history.history['loss'])\n",
        "plt.plot(history.history['val_loss'])\n",
        "plt.title('model loss')\n",
        "plt.ylabel('loss')\n",
        "plt.xlabel('epoch')\n",
        "plt.legend(['train', 'validation'], loc='upper left')\n",
        "plt.show()"
      ],
      "execution_count": 40,
      "outputs": [
        {
          "output_type": "display_data",
          "data": {
            "image/png": "[encoded data removed]",
            "text/plain": [
              "<Figure size 432x288 with 1 Axes>"
            ]
          },
          "metadata": {
            "tags": [],
            "needs_background": "light"
          }
        }
      ]
    },
    {
      "cell_type": "code",
      "metadata": {
        "id": "TXEsZWIcfJ7g",
        "colab_type": "code",
        "colab": {
          "base_uri": "https://localhost:8080/",
          "height": 34
        },
        "outputId": "97c10b17-9c9a-4307-e78a-c27eda017c2c"
      },
      "source": [
        "print(model.predict([[23,30,3.1,-1.0]]))"
      ],
      "execution_count": 41,
      "outputs": [
        {
          "output_type": "stream",
          "text": [
            "[[9761811.]]\n"
          ],
          "name": "stdout"
        }
      ]
    },
    {
      "cell_type": "code",
      "metadata": {
        "id": "9whMsmEIT1rN",
        "colab_type": "code",
        "colab": {
          "base_uri": "https://localhost:8080/",
          "height": 246
        },
        "outputId": "c1c5df17-e216-43c6-b1ae-011db677e1b0"
      },
      "source": [
        "print('Coefficients: \\n',model.get_weights())"
      ],
      "execution_count": 42,
      "outputs": [
        {
          "output_type": "stream",
          "text": [
            "Coefficients: \n",
            " [array([[-11.496659 ,  -8.169276 ,  -7.7659354,  -7.866935 ],\n",
            "       [ 28.248365 ,  28.372217 ,  28.41985  ,  29.047834 ],\n",
            "       [ 55.27814  ,  53.57438  ,  53.455402 ,  53.861862 ],\n",
            "       [ 26.707664 ,  26.416992 ,  24.403753 ,  26.630997 ]],\n",
            "      dtype=float32), array([20.813534, 21.40937 , 21.77994 , 21.774385], dtype=float32), array([[32.750626  , 32.327366  , 32.081127  , -0.6502168 ],\n",
            "       [30.958435  , 31.68723   , 31.837732  , -0.08554533],\n",
            "       [30.883215  , 30.857315  , 30.108942  , -1.0983744 ],\n",
            "       [30.776522  , 31.136099  , 30.958239  , -0.76517874]],\n",
            "      dtype=float32), array([18.460463 , 18.938667 , 18.64128  , -0.8282541], dtype=float32), array([[32.110096  ],\n",
            "       [31.432875  ],\n",
            "       [31.934683  ],\n",
            "       [-0.14517501]], dtype=float32), array([12.409287], dtype=float32)]\n"
          ],
          "name": "stdout"
        }
      ]
    },
    {
      "cell_type": "code",
      "metadata": {
        "id": "KQSj27iRU_bE",
        "colab_type": "code",
        "colab": {
          "base_uri": "https://localhost:8080/",
          "height": 70
        },
        "outputId": "be9dcba5-9773-4551-cb28-94e4865ba1ed"
      },
      "source": [
        "from sklearn.metrics import mean_absolute_error,mean_squared_error,r2_score\n",
        "y_prediction=model.predict(x_test)\n",
        "print(r2_score(y_prediction,y_test))\n",
        "print(mean_absolute_error(y_prediction,y_test))\n",
        "print(mean_squared_error(y_prediction,y_test))"
      ],
      "execution_count": 43,
      "outputs": [
        {
          "output_type": "stream",
          "text": [
            "-0.27475028120710654\n",
            "3823371.6270286324\n",
            "23352672020601.414\n"
          ],
          "name": "stdout"
        }
      ]
    },
    {
      "cell_type": "code",
      "metadata": {
        "id": "aTiETxDWVLF7",
        "colab_type": "code",
        "colab": {
          "base_uri": "https://localhost:8080/",
          "height": 308
        },
        "outputId": "c0e22c34-0390-4f14-8924-f6af3ab2e217"
      },
      "source": [
        "plt.scatter(y_test,y_prediction)\n",
        "plt.xlabel('Y Test')\n",
        "plt.ylabel('Y Predicted')"
      ],
      "execution_count": 44,
      "outputs": [
        {
          "output_type": "execute_result",
          "data": {
            "text/plain": [
              "Text(0, 0.5, 'Y Predicted')"
            ]
          },
          "metadata": {
            "tags": []
          },
          "execution_count": 44
        },
        {
          "output_type": "display_data",
          "data": {
            "image/png": "[encoded data removed]",
            "text/plain": [
              "<Figure size 432x288 with 1 Axes>"
            ]
          },
          "metadata": {
            "tags": [],
            "needs_background": "light"
          }
        }
      ]
    }
  ]
}